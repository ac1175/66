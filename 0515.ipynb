{
  "nbformat": 4,
  "nbformat_minor": 0,
  "metadata": {
    "colab": {
      "provenance": [],
      "authorship_tag": "ABX9TyMqK7LRBjju39DBFOvZFt/k",
      "include_colab_link": true
    },
    "kernelspec": {
      "name": "python3",
      "display_name": "Python 3"
    },
    "language_info": {
      "name": "python"
    }
  },
  "cells": [
    {
      "cell_type": "markdown",
      "metadata": {
        "id": "view-in-github",
        "colab_type": "text"
      },
      "source": [
        "<a href=\"https://colab.research.google.com/github/ac1175/introduction-to-computers/blob/main/0515.ipynb\" target=\"_parent\"><img src=\"https://colab.research.google.com/assets/colab-badge.svg\" alt=\"Open In Colab\"/></a>"
      ]
    },
    {
      "cell_type": "code",
      "execution_count": 1,
      "metadata": {
        "colab": {
          "base_uri": "https://localhost:8080/"
        },
        "id": "8j6fSAL-QotM",
        "outputId": "0f2be291-69d0-499e-935e-908210de10d5"
      },
      "outputs": [
        {
          "output_type": "stream",
          "name": "stdout",
          "text": [
            "0515\n"
          ]
        }
      ],
      "source": [
        "print(\"0515\")"
      ]
    },
    {
      "cell_type": "code",
      "source": [
        "rain = input(\"請輸入今天會下雨嗎:\")\n",
        "if(rain == \"Y\" or rain == \"y\"):\n",
        "  print(\"出門記得帶傘!\")\n",
        "elif(rain == \"N\"or rain == \"n\"):\n",
        "  print(\"出門記得帶傘!\")  \n",
        "else:\n",
        "  print(\"不用帶傘\")"
      ],
      "metadata": {
        "colab": {
          "base_uri": "https://localhost:8080/"
        },
        "id": "4VDti4AbVqHb",
        "outputId": "f6fc943f-4089-4413-8e66-0bc92370254c"
      },
      "execution_count": 4,
      "outputs": [
        {
          "output_type": "stream",
          "name": "stdout",
          "text": [
            "請輸入今天會下雨嗎:n\n",
            "出門記得帶傘!\n"
          ]
        }
      ]
    },
    {
      "cell_type": "code",
      "source": [
        "score = int(input(\"score\"))\n",
        "if score >= 90:\n",
        "  print('Grade is A')\n",
        "elif score >= 80:\n",
        "  print('Grade is B')\n",
        "elif score >= 70:\n",
        "  print('Grade is C')\n",
        "elif score >= 60:\n",
        "  print('Grade is D')\n",
        "else:\n",
        "  print('Grade is E')"
      ],
      "metadata": {
        "colab": {
          "base_uri": "https://localhost:8080/"
        },
        "id": "ESzJNs3dVg-l",
        "outputId": "704f6bdb-0b30-484d-a9e1-1463115b8eea"
      },
      "execution_count": 7,
      "outputs": [
        {
          "output_type": "stream",
          "name": "stdout",
          "text": [
            "score59\n",
            "Grade is E\n"
          ]
        }
      ]
    },
    {
      "cell_type": "code",
      "source": [
        "weather = input(\"\")\n",
        "if(weather == \"12\" or weather == \"1\" or weather == \"2\"):\n",
        "  print(\"冬天\") \n",
        "elif(weather == \"3\" or weather == \"4\" or weather == \"5\"):\n",
        "  print(\"春天\")\n",
        "elif(weather == \"6\" or weather == \"7\" or weather == \"8\"):\n",
        "  print(\"夏天\")\n",
        "elif(weather == \"9\" or weather == \"10\" or weather == \"11\"):\n",
        "  print(\"秋天\")\n",
        "else:\n",
        "  print(\"其他不在月份的範圍內\")"
      ],
      "metadata": {
        "colab": {
          "base_uri": "https://localhost:8080/"
        },
        "id": "eI5WBkdzX1c1",
        "outputId": "8e037580-735b-404c-e66d-dd991a3da3d3"
      },
      "execution_count": 19,
      "outputs": [
        {
          "output_type": "stream",
          "name": "stdout",
          "text": [
            "1\n",
            "冬天\n"
          ]
        }
      ]
    },
    {
      "cell_type": "code",
      "source": [
        "revenue = int(input(\"\"))\n",
        "if revenue >= 2000000:\n",
        "  print(\"稅率為30%\")\n",
        "elif revenue >= 1000000:\n",
        "  print(\"稅率為21%\")\n",
        "elif revenue >= 600000:\n",
        "  print(\"稅率為13%\")\n",
        "elif revenue >= 300000:\n",
        "  print(\"稅率為6%\")\n",
        "else:\n",
        "  print(\"無稅率\")"
      ],
      "metadata": {
        "colab": {
          "base_uri": "https://localhost:8080/"
        },
        "id": "W6wVuj6Vc6Rh",
        "outputId": "8f767754-c262-49de-ecf4-9b360dd4322a"
      },
      "execution_count": 26,
      "outputs": [
        {
          "output_type": "stream",
          "name": "stdout",
          "text": [
            "450000\n",
            "稅率為6%\n"
          ]
        }
      ]
    },
    {
      "cell_type": "code",
      "source": [
        "temperature = float(input(\"\"))\n",
        "if temperature >= 37.5:\n",
        "  print(\"體溫過高!\")\n",
        "elif temperature >= 37.0:\n",
        "  print(\"體溫略高!\")\n",
        "elif temperature >= 34.0:\n",
        "  print(\"體溫正常!\")\n",
        "else:\n",
        "  print(\"體溫異常，請重新量測\")"
      ],
      "metadata": {
        "colab": {
          "base_uri": "https://localhost:8080/"
        },
        "id": "efWpf2-Ef6-m",
        "outputId": "994d0ccd-52cc-4d80-c99b-73527b2157fb"
      },
      "execution_count": 29,
      "outputs": [
        {
          "output_type": "stream",
          "name": "stdout",
          "text": [
            "22\n",
            "體溫異常，請重新量測\n"
          ]
        }
      ]
    }
  ]
}